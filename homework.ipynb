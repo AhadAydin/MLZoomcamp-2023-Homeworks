{
 "cells": [
  {
   "cell_type": "code",
   "execution_count": 26,
   "id": "65a680e3",
   "metadata": {},
   "outputs": [],
   "source": [
    "import numpy as np\n",
    "import pandas as pd\n",
    "\n",
    "full_df = pd.read_csv(\"car_prices.csv\")\n",
    "full_df.rename(columns = {'MSRP':'price'}, inplace = True)\n",
    "\n",
    "df = full_df[[\"Make\",\"Model\",\"Year\",\"Engine HP\",\"Engine Cylinders\",\"Transmission Type\",\"Vehicle Style\",\"highway MPG\",\"city mpg\"]]\n",
    "df.columns = df.columns.str.lower().str.replace(' ','_')\n",
    "df = df.fillna(0)"
   ]
  },
  {
   "cell_type": "code",
   "execution_count": 27,
   "id": "a720cd95",
   "metadata": {},
   "outputs": [
    {
     "name": "stdout",
     "output_type": "stream",
     "text": [
      "Q1\n",
      "AUTOMATIC\n"
     ]
    }
   ],
   "source": [
    "#Q1\n",
    "print('Q1')\n",
    "print(df.transmission_type.value_counts().index[0])"
   ]
  },
  {
   "cell_type": "code",
   "execution_count": 28,
   "id": "79466175",
   "metadata": {},
   "outputs": [
    {
     "name": "stdout",
     "output_type": "stream",
     "text": [
      "Q2\n",
      "['engine_hp', 'engine_cylinders']\n"
     ]
    }
   ],
   "source": [
    "#Q2\n",
    "print('Q2')\n",
    "df_numericals = df.loc[:,(df.dtypes == 'int64')|(df.dtypes == 'float64')]\n",
    "print(df_numericals.corrwith(full_df.price).abs().sort_values(ascending=False).index.to_list()[:2])\n"
   ]
  },
  {
   "cell_type": "code",
   "execution_count": 29,
   "id": "391fe56a",
   "metadata": {},
   "outputs": [],
   "source": [
    "#ONE-HOT ENCODING\n",
    "from sklearn.feature_extraction import DictVectorizer\n",
    "\n",
    "dv = DictVectorizer(sparse=False)\n",
    "\n",
    "df_dict = df.to_dict(orient='records')\n",
    "x_df = dv.fit_transform(df_dict)\n",
    "\n",
    "#DATA PREPERATION\n",
    "from sklearn.model_selection import train_test_split\n",
    "\n",
    "above_average = (full_df.price > full_df.price.mean()).astype(int)\n",
    "\n",
    "df_train_valid , df_test = train_test_split(df,test_size=0.2,random_state=42)\n",
    "df_train , df_valid = train_test_split(df_train_valid,test_size=0.25,random_state=42)\n",
    "\n",
    "x_train_valid , x_test = train_test_split(x_df,test_size=0.2,random_state=42)\n",
    "x_train , x_valid = train_test_split(x_train_valid,test_size=0.25,random_state=42)\n",
    "\n",
    "abo_avg_train_valid, abo_avg_test = train_test_split(above_average,test_size=0.2,random_state=42)\n",
    "abo_avg_train , abo_avg_valid = train_test_split(abo_avg_train_valid,test_size=0.25,random_state=42)\n"
   ]
  },
  {
   "cell_type": "code",
   "execution_count": 30,
   "id": "d7d52ca6",
   "metadata": {},
   "outputs": [
    {
     "name": "stdout",
     "output_type": "stream",
     "text": [
      "Q3\n"
     ]
    },
    {
     "data": {
      "text/plain": [
       "transmission_type    0.020958\n",
       "dtype: float64"
      ]
     },
     "execution_count": 30,
     "metadata": {},
     "output_type": "execute_result"
    }
   ],
   "source": [
    "#Q3\n",
    "print('Q3')\n",
    "from sklearn.metrics import mutual_info_score\n",
    "mut_scores = df_train.apply(lambda x : mutual_info_score(abo_avg_train,x))\n",
    "mut_scores = mut_scores.sort_values()\n",
    "mut_scores[:1]"
   ]
  },
  {
   "cell_type": "code",
   "execution_count": 31,
   "id": "2bbb4bb2",
   "metadata": {},
   "outputs": [
    {
     "name": "stdout",
     "output_type": "stream",
     "text": [
      "0.95\n"
     ]
    }
   ],
   "source": [
    "#Q4\n",
    "\n",
    "#logistic regression\n",
    "from sklearn.linear_model import LogisticRegression\n",
    "\n",
    "model = LogisticRegression(solver='liblinear', C=10, max_iter=1000, random_state=42)\n",
    "\n",
    "model.fit(x_train,abo_avg_train)\n",
    "\n",
    "y_pred = model.predict(x_valid)\n",
    "\n",
    "acc = (y_pred == abo_avg_valid).mean()\n",
    "print(round(acc,2))"
   ]
  },
  {
   "cell_type": "code",
   "execution_count": 32,
   "id": "cbfa8313",
   "metadata": {},
   "outputs": [
    {
     "name": "stdout",
     "output_type": "stream",
     "text": [
      "Q5\n"
     ]
    },
    {
     "data": {
      "text/html": [
       "<div>\n",
       "<style scoped>\n",
       "    .dataframe tbody tr th:only-of-type {\n",
       "        vertical-align: middle;\n",
       "    }\n",
       "\n",
       "    .dataframe tbody tr th {\n",
       "        vertical-align: top;\n",
       "    }\n",
       "\n",
       "    .dataframe thead th {\n",
       "        text-align: right;\n",
       "    }\n",
       "</style>\n",
       "<table border=\"1\" class=\"dataframe\">\n",
       "  <thead>\n",
       "    <tr style=\"text-align: right;\">\n",
       "      <th></th>\n",
       "      <th>feature</th>\n",
       "      <th>difference</th>\n",
       "    </tr>\n",
       "  </thead>\n",
       "  <tbody>\n",
       "    <tr>\n",
       "      <th>0</th>\n",
       "      <td>make</td>\n",
       "      <td>-0.003777</td>\n",
       "    </tr>\n",
       "    <tr>\n",
       "      <th>1</th>\n",
       "      <td>model</td>\n",
       "      <td>0.025598</td>\n",
       "    </tr>\n",
       "    <tr>\n",
       "      <th>2</th>\n",
       "      <td>year</td>\n",
       "      <td>-0.001259</td>\n",
       "    </tr>\n",
       "    <tr>\n",
       "      <th>3</th>\n",
       "      <td>engine_hp</td>\n",
       "      <td>0.022241</td>\n",
       "    </tr>\n",
       "    <tr>\n",
       "      <th>4</th>\n",
       "      <td>engine_cylinders</td>\n",
       "      <td>-0.001679</td>\n",
       "    </tr>\n",
       "    <tr>\n",
       "      <th>5</th>\n",
       "      <td>transmission_type</td>\n",
       "      <td>-0.000839</td>\n",
       "    </tr>\n",
       "    <tr>\n",
       "      <th>6</th>\n",
       "      <td>vehicle_style</td>\n",
       "      <td>0.001679</td>\n",
       "    </tr>\n",
       "    <tr>\n",
       "      <th>7</th>\n",
       "      <td>highway_mpg</td>\n",
       "      <td>-0.001679</td>\n",
       "    </tr>\n",
       "    <tr>\n",
       "      <th>8</th>\n",
       "      <td>city_mpg</td>\n",
       "      <td>0.012589</td>\n",
       "    </tr>\n",
       "  </tbody>\n",
       "</table>\n",
       "</div>"
      ],
      "text/plain": [
       "             feature  difference\n",
       "0               make   -0.003777\n",
       "1              model    0.025598\n",
       "2               year   -0.001259\n",
       "3          engine_hp    0.022241\n",
       "4   engine_cylinders   -0.001679\n",
       "5  transmission_type   -0.000839\n",
       "6      vehicle_style    0.001679\n",
       "7        highway_mpg   -0.001679\n",
       "8           city_mpg    0.012589"
      ]
     },
     "execution_count": 32,
     "metadata": {},
     "output_type": "execute_result"
    }
   ],
   "source": [
    "#Q5\n",
    "print('Q5')\n",
    "def give_diff(c):\n",
    "    t_df = df.drop(c,axis=1)\n",
    "\n",
    "    t_df_dict = t_df.to_dict(orient='records')\n",
    "    t_x_df = dv.fit_transform(t_df_dict)\n",
    "    \n",
    "    t_x_train_valid , t_x_test = train_test_split(t_x_df,test_size=0.2,random_state=42)\n",
    "    t_x_train , t_x_valid = train_test_split(t_x_train_valid,test_size=0.25,random_state=42)\n",
    "    \n",
    "    t_model = LogisticRegression(solver='liblinear', C=10, max_iter=1000, random_state=42)\n",
    "    t_model.fit(t_x_train,abo_avg_train)\n",
    "    t_y_pred = t_model.predict(t_x_valid)\n",
    "\n",
    "    t_acc = (t_y_pred == abo_avg_valid).mean()\n",
    "    return acc-t_acc\n",
    "\n",
    "cols_accs = pd.DataFrame([[x,give_diff(x)] for x in df.columns.values])\n",
    "cols_accs.columns = ['feature','difference']\n",
    "cols_accs"
   ]
  },
  {
   "cell_type": "code",
   "execution_count": 43,
   "id": "5ba54aca",
   "metadata": {
    "scrolled": true
   },
   "outputs": [
    {
     "name": "stdout",
     "output_type": "stream",
     "text": [
      "Q6\n"
     ]
    },
    {
     "data": {
      "text/plain": [
       "{0: 6049101209888.719,\n",
       " 0.01: 0.22445872016685056,\n",
       " 0.1: 0.2146592009879433,\n",
       " 1: 0.22957450706455343,\n",
       " 10: 0.32033174012236765}"
      ]
     },
     "execution_count": 43,
     "metadata": {},
     "output_type": "execute_result"
    }
   ],
   "source": [
    "#Q6\n",
    "print('Q6')\n",
    "from sklearn.linear_model import Ridge\n",
    "from sklearn.metrics import mean_squared_error\n",
    "price = np.log1p(full_df.price)\n",
    "\n",
    "price_train_valid , price_test= train_test_split(price,test_size=0.2,random_state=42)\n",
    "price_train, price_valid = train_test_split(price_train_valid,test_size=0.25,random_state=42)\n",
    "\n",
    "alphas=[0, 0.01, 0.1, 1, 10]\n",
    "results={}\n",
    "for a in alphas:\n",
    "    ridge_model = Ridge(alpha=a,random_state=42)\n",
    "    ridge_model.fit(x_train,price_train)\n",
    "\n",
    "    y_pred = ridge_model.predict(x_valid)\n",
    "    rmse = np.sqrt(mean_squared_error(price_valid, y_pred))\n",
    "    results[a] = rmse\n",
    "    \n",
    "results"
   ]
  },
  {
   "cell_type": "code",
   "execution_count": null,
   "id": "cc1f8884",
   "metadata": {},
   "outputs": [],
   "source": []
  }
 ],
 "metadata": {
  "kernelspec": {
   "display_name": "Python 3 (ipykernel)",
   "language": "python",
   "name": "python3"
  },
  "language_info": {
   "codemirror_mode": {
    "name": "ipython",
    "version": 3
   },
   "file_extension": ".py",
   "mimetype": "text/x-python",
   "name": "python",
   "nbconvert_exporter": "python",
   "pygments_lexer": "ipython3",
   "version": "3.11.4"
  }
 },
 "nbformat": 4,
 "nbformat_minor": 5
}
